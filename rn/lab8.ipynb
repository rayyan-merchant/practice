{
 "cells": [
  {
   "cell_type": "markdown",
   "id": "c6c95c99",
   "metadata": {},
   "source": [
    "### Q1"
   ]
  },
  {
   "cell_type": "code",
   "execution_count": 42,
   "id": "5901faa2",
   "metadata": {},
   "outputs": [
    {
     "name": "stdout",
     "output_type": "stream",
     "text": [
      "P(Red) = 0.5\n",
      "P(Hearts | Red) = 0.5\n",
      "P(Diamond | Face) = 0.25\n",
      "P(Spade OR Queen | Face) = 0.5\n"
     ]
    }
   ],
   "source": [
    "p_red = 2 * 13/52\n",
    "\n",
    "print(\"P(Red) =\", p_red)\n",
    "\n",
    "p_hearts_and_red = 13/52\n",
    "p_hearts_given_red = p_hearts_and_red / p_red\n",
    "\n",
    "print(\"P(Hearts | Red) =\", p_hearts_given_red)\n",
    "\n",
    "p_face_cards = 4 * 3/52\n",
    "p_diamonds = 3/52\n",
    "p_diamonds_given_face_cards = p_diamonds / p_face_cards\n",
    "\n",
    "print(\"P(Diamond | Face) =\", p_diamonds_given_face_cards)\n",
    "\n",
    "p_spade_or_queen = (3 + 3) / 52\n",
    "p_spade_or_queen_give_face_cards = p_spade_or_queen / p_face_cards\n",
    "print(\"P(Spade OR Queen | Face) =\", p_spade_or_queen_give_face_cards)\n",
    "\n"
   ]
  },
  {
   "cell_type": "markdown",
   "id": "70013435",
   "metadata": {},
   "source": [
    "### Q2"
   ]
  },
  {
   "cell_type": "code",
   "execution_count": 43,
   "id": "f0ce96b5",
   "metadata": {},
   "outputs": [],
   "source": [
    "from pgmpy.models import DiscreteBayesianNetwork\n",
    "from pgmpy.factors.discrete import TabularCPD\n",
    "from pgmpy.inference import VariableElimination"
   ]
  },
  {
   "cell_type": "code",
   "execution_count": null,
   "id": "1a72ca4e",
   "metadata": {},
   "outputs": [],
   "source": []
  },
  {
   "cell_type": "code",
   "execution_count": 44,
   "id": "0a4c56b8",
   "metadata": {},
   "outputs": [],
   "source": [
    "model = DiscreteBayesianNetwork([\n",
    "    ('intelligence', 'grade'),\n",
    "    ('study hours','grade'),\n",
    "    ('difficulty', 'grade'),\n",
    "    ('grade', 'pass')\n",
    "])\n"
   ]
  },
  {
   "cell_type": "code",
   "execution_count": 45,
   "id": "b7bd06e6",
   "metadata": {},
   "outputs": [],
   "source": [
    "cpd_intelligence = TabularCPD(variable='intelligence',variable_card=2, values = [[0.7], [0.3]], state_names = {'intelligence': ['High', 'Low']})\n",
    "cpd_study_hrs = TabularCPD(variable= \"study hours\", variable_card=2, values = [[0.6], [0.4]], state_names = {'study hours': ['Sufficient', 'Insufficient']})\n",
    "cpd_difficulty = TabularCPD(variable = \"difficulty\", variable_card=2, values = [[0.4], [0.6]], state_names={'difficulty': ['Hard', 'Easy']})\n",
    "\n",
    "#Grade (G) Node (3 Parents → 2³ = 8 Combinations)\n",
    "#Parents: Intelligence (I), StudyHours (S), Difficulty (D)\n",
    "#States: A, B, C\n",
    "\n",
    "#I\t      StudyHrs\t    Diff\tP(G=A)\tP(G=B)\tP(G=C)\n",
    "#High\tSufficient\t    Hard\t0.5\t    0.3 \t0.2\n",
    "#High\tSufficient\t    Easy\t0.8\t    0.15\t0.05\n",
    "#High\tInsufficient\tHard\t0.3\t    0.4\t    0.3\n",
    "#High\tInsufficient\tEasy\t0.6\t    0.3\t    0.1\n",
    "#Low\tSufficient\t    Hard\t0.2\t    0.4\t    0.4\n",
    "#Low\tSufficient\t    Easy\t0.4\t    0.4\t    0.2\n",
    "#Low\tInsufficient\tHard\t0.1\t    0.3\t    0.6\n",
    "#Low\tInsufficient\tEasy\t0.2\t    0.4\t    0.4\n",
    "\n",
    "cpd_grade = TabularCPD( \n",
    "    variable='grade',\n",
    "    variable_card=3, #A, B, C\n",
    "    values=[\n",
    "        [0.5, 0.8, 0.3, 0.6, 0.2, 0.4, 0.1, 0.2],  #A\n",
    "        [0.3, 0.15, 0.4, 0.3, 0.4, 0.4, 0.3, 0.4], #B\n",
    "        [0.2, 0.05, 0.3, 0.1, 0.4, 0.2, 0.6, 0.4]  #C\n",
    "    ],\n",
    "    evidence=['intelligence', 'study hours', 'difficulty'],\n",
    "    evidence_card=[2,2,2],\n",
    "    state_names={ #when defining state_names, child states first then parent names per evidence order\n",
    "        'grade':['A', 'B', 'C'], #grade States: ['A', 'B', 'C'] → 0='A', 1='B', 2='C'.\n",
    "            #Parent States:\n",
    "            #intelligence: 0='High', 1='Low'\n",
    "            #study_hours: 0='Sufficient', 1='Insufficient'\n",
    "            #difficulty: 0='Hard', 1='Easy'\n",
    "        'intelligence': ['High', 'Low'],\n",
    "        'study hours': ['Sufficient', 'Insufficient'],\n",
    "        'difficulty':['Hard', 'Easy']\n",
    "    }\n",
    ")\n",
    "cpd_pass = TabularCPD( \n",
    "    variable=\"pass\", \n",
    "    variable_card=2,\n",
    "    values=[\n",
    "        [0.95, 0.80, 0.50],  # P(Pass=Yes | G=A/B/C)\n",
    "        [0.05, 0.20, 0.50]   # P(Pass=No | G=A/B/C)\n",
    "    ], \n",
    "    evidence=['grade'], \n",
    "    evidence_card=[3],\n",
    "    state_names={\n",
    "        'pass': ['Yes', 'No'],\n",
    "        'grade': ['A', 'B', 'C']\n",
    "    }\n",
    ")\n",
    "\n"
   ]
  },
  {
   "cell_type": "code",
   "execution_count": 46,
   "id": "8e45cecb",
   "metadata": {},
   "outputs": [],
   "source": [
    "model.add_cpds(cpd_difficulty, cpd_grade, cpd_intelligence, cpd_pass, cpd_study_hrs)"
   ]
  },
  {
   "cell_type": "code",
   "execution_count": 47,
   "id": "da1cbccc",
   "metadata": {},
   "outputs": [],
   "source": [
    "assert model.check_model()"
   ]
  },
  {
   "cell_type": "code",
   "execution_count": 48,
   "id": "258ddb53",
   "metadata": {},
   "outputs": [],
   "source": [
    "inference = VariableElimination(model)"
   ]
  },
  {
   "cell_type": "code",
   "execution_count": 49,
   "id": "634113cb",
   "metadata": {},
   "outputs": [],
   "source": [
    "result = inference.query(variables = ['pass'], evidence={'study hours':'Sufficient', 'difficulty':'Hard'})"
   ]
  },
  {
   "cell_type": "code",
   "execution_count": 50,
   "id": "96cb94ac",
   "metadata": {},
   "outputs": [
    {
     "name": "stdout",
     "output_type": "stream",
     "text": [
      "+-----------+-------------+\n",
      "| pass      |   phi(pass) |\n",
      "+===========+=============+\n",
      "| pass(Yes) |      0.7835 |\n",
      "+-----------+-------------+\n",
      "| pass(No)  |      0.2165 |\n",
      "+-----------+-------------+\n"
     ]
    }
   ],
   "source": [
    "print(result)"
   ]
  },
  {
   "cell_type": "code",
   "execution_count": 51,
   "id": "ddcdac55",
   "metadata": {},
   "outputs": [],
   "source": [
    "result = inference.query(variables=['intelligence'], evidence = {'pass':'Yes'})"
   ]
  },
  {
   "cell_type": "code",
   "execution_count": 52,
   "id": "64551ace",
   "metadata": {},
   "outputs": [
    {
     "name": "stdout",
     "output_type": "stream",
     "text": [
      "+--------------------+---------------------+\n",
      "| intelligence       |   phi(intelligence) |\n",
      "+====================+=====================+\n",
      "| intelligence(High) |              0.7305 |\n",
      "+--------------------+---------------------+\n",
      "| intelligence(Low)  |              0.2695 |\n",
      "+--------------------+---------------------+\n"
     ]
    }
   ],
   "source": [
    "print(result)"
   ]
  },
  {
   "cell_type": "markdown",
   "id": "3e7d4507",
   "metadata": {},
   "source": [
    "### Q3"
   ]
  },
  {
   "cell_type": "code",
   "execution_count": 53,
   "id": "81970632",
   "metadata": {},
   "outputs": [],
   "source": [
    "model = DiscreteBayesianNetwork([\n",
    "    ('disease', 'fever'),\n",
    "    ('disease', 'cough'),\n",
    "    ('disease', 'fatigue'),\n",
    "    ('disease', 'chills')\n",
    "])"
   ]
  },
  {
   "cell_type": "code",
   "execution_count": 54,
   "id": "2d644dfc",
   "metadata": {},
   "outputs": [],
   "source": [
    "cpd_disease = TabularCPD(\n",
    "    variable = \"disease\",\n",
    "    variable_card = 2,\n",
    "    values = [[0.3], [0.7]],\n",
    "    state_names = {'disease':['Flu', 'Cold']}\n",
    ")\n",
    "\n",
    "cpd_fever = TabularCPD(\n",
    "    variable = \"fever\",\n",
    "    variable_card = 2,\n",
    "    values = [[0.9, 0.5], \n",
    "              [0.1, 0.5]],\n",
    "    evidence = ['disease'],\n",
    "    evidence_card = [2],\n",
    "    state_names = {\n",
    "        'fever': ['Yes','No'],\n",
    "        'disease': ['Flu', 'Cold']\n",
    "    }\n",
    ")\n",
    "cpd_cough = TabularCPD(\n",
    "    variable= 'cough',\n",
    "    variable_card = 2,\n",
    "    values = [[0.8, 0.6], # P(Cough=Yes | Disease=Flu, Disease=Cold)\n",
    "              [0.2, 0.4]],# P(Cough=No | Disease=Flu, Disease=Cold)\n",
    "    evidence = ['disease'],\n",
    "    evidence_card = [2],\n",
    "    state_names = {\n",
    "        'cough': ['Yes','No'],\n",
    "        'disease': ['Flu', 'Cold']\n",
    "    }\n",
    ")\n",
    "cpd_fatigue = TabularCPD(\n",
    "    variable= 'fatigue',\n",
    "    variable_card = 2,\n",
    "    values = [[0.7, 0.3], \n",
    "              [0.3, 0.7]],\n",
    "    evidence = ['disease'],\n",
    "    evidence_card = [2],\n",
    "    state_names = {\n",
    "        'fatigue': ['Yes','No'],\n",
    "        'disease': ['Flu', 'Cold']\n",
    "    }\n",
    ")\n",
    "\n",
    "cpd_chills = TabularCPD(variable= 'chills',\n",
    "    variable_card = 2,\n",
    "    values = [[0.6, 0.4], \n",
    "              [0.4, 0.6]],\n",
    "    evidence = ['disease'],\n",
    "    evidence_card = [2],\n",
    "    state_names = {\n",
    "        'chills': ['Yes','No'],\n",
    "        'disease': ['Flu', 'Cold']\n",
    "    }\n",
    ")\n"
   ]
  },
  {
   "cell_type": "code",
   "execution_count": 56,
   "id": "d1a24264",
   "metadata": {},
   "outputs": [],
   "source": [
    "model.add_cpds(cpd_chills, cpd_fatigue, cpd_cough, cpd_fever, cpd_disease)"
   ]
  },
  {
   "cell_type": "code",
   "execution_count": 68,
   "id": "bd42591a",
   "metadata": {},
   "outputs": [],
   "source": [
    "assert model.check_model(), 'Model is invalid'"
   ]
  },
  {
   "cell_type": "code",
   "execution_count": 59,
   "id": "d6539013",
   "metadata": {},
   "outputs": [],
   "source": [
    "inference = VariableElimination(model)"
   ]
  },
  {
   "cell_type": "code",
   "execution_count": 61,
   "id": "f4948b72",
   "metadata": {},
   "outputs": [],
   "source": [
    "result = inference.query(variables = ['disease'], evidence = {'fever':'Yes', 'cough':'Yes'})"
   ]
  },
  {
   "cell_type": "code",
   "execution_count": 62,
   "id": "52e9e148",
   "metadata": {},
   "outputs": [
    {
     "name": "stdout",
     "output_type": "stream",
     "text": [
      "+---------------+----------------+\n",
      "| disease       |   phi(disease) |\n",
      "+===============+================+\n",
      "| disease(Flu)  |         0.5070 |\n",
      "+---------------+----------------+\n",
      "| disease(Cold) |         0.4930 |\n",
      "+---------------+----------------+\n"
     ]
    }
   ],
   "source": [
    "print(result)"
   ]
  },
  {
   "cell_type": "code",
   "execution_count": 63,
   "id": "3e7a4fe3",
   "metadata": {},
   "outputs": [],
   "source": [
    "result = inference.query(variables = ['disease'], evidence = {'fever':'Yes', 'cough':'Yes', 'chills':'Yes'})"
   ]
  },
  {
   "cell_type": "code",
   "execution_count": 64,
   "id": "28cfab00",
   "metadata": {},
   "outputs": [
    {
     "name": "stdout",
     "output_type": "stream",
     "text": [
      "+---------------+----------------+\n",
      "| disease       |   phi(disease) |\n",
      "+===============+================+\n",
      "| disease(Flu)  |         0.6067 |\n",
      "+---------------+----------------+\n",
      "| disease(Cold) |         0.3933 |\n",
      "+---------------+----------------+\n"
     ]
    }
   ],
   "source": [
    "print(result)"
   ]
  },
  {
   "cell_type": "code",
   "execution_count": 66,
   "id": "bcc86cd1",
   "metadata": {},
   "outputs": [],
   "source": [
    "result = inference.query(variables = ['fatigue'], evidence = {'disease':'Flu'})"
   ]
  },
  {
   "cell_type": "code",
   "execution_count": 67,
   "id": "d7cd657c",
   "metadata": {},
   "outputs": [
    {
     "name": "stdout",
     "output_type": "stream",
     "text": [
      "+--------------+----------------+\n",
      "| fatigue      |   phi(fatigue) |\n",
      "+==============+================+\n",
      "| fatigue(Yes) |         0.7000 |\n",
      "+--------------+----------------+\n",
      "| fatigue(No)  |         0.3000 |\n",
      "+--------------+----------------+\n"
     ]
    }
   ],
   "source": [
    "print(result)"
   ]
  },
  {
   "cell_type": "code",
   "execution_count": null,
   "id": "af3906a7",
   "metadata": {},
   "outputs": [],
   "source": []
  }
 ],
 "metadata": {
  "kernelspec": {
   "display_name": "Python 3",
   "language": "python",
   "name": "python3"
  },
  "language_info": {
   "codemirror_mode": {
    "name": "ipython",
    "version": 3
   },
   "file_extension": ".py",
   "mimetype": "text/x-python",
   "name": "python",
   "nbconvert_exporter": "python",
   "pygments_lexer": "ipython3",
   "version": "3.12.6"
  }
 },
 "nbformat": 4,
 "nbformat_minor": 5
}
