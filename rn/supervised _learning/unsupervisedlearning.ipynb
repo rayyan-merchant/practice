{
  "nbformat": 4,
  "nbformat_minor": 0,
  "metadata": {
    "colab": {
      "provenance": []
    },
    "kernelspec": {
      "name": "python3",
      "display_name": "Python 3"
    },
    "language_info": {
      "name": "python"
    }
  },
  "cells": [
    {
      "cell_type": "code",
      "execution_count": null,
      "metadata": {
        "id": "oXx7VfYPFvYe"
      },
      "outputs": [],
      "source": [
        "#importing libraries\n",
        "import numpy as nm\n",
        "import matplotlib.pyplot as mtp\n",
        "import pandas as pd\n",
        "from sklearn.cluster import KMeans\n",
        "from sklearn.preprocessing import StandardScaler\n",
        "\n",
        "# Importing the dataset\n",
        "df = pd.read_csv(&#39;Mall_Customers.csv&#39;)\n",
        "df.head()\n",
        "\n",
        "# Extracting Variables\n",
        "x = df.iloc[:, [3, 4]].values\n",
        "\n",
        "#finding optimal number of clusters using the elbow method\n",
        "from sklearn.cluster import KMeans\n",
        "wcss_list= [] #Initializing the list for the values of WCSS\n",
        "\n",
        "#Using for loop for iterations from 1 to 10.\n",
        "for i in range(1, 11):\n",
        "  kmeans = KMeans(n_clusters=i, init=k-means++, random_state= 42)\n",
        "  kmeans.fit(x)\n",
        "  wcss_list.append(kmeans.inertia_)\n",
        "\n",
        "mtp.plot(range(1, 11), wcss_list)\n",
        "mtp.title('The Elobw Method Graph')\n",
        "mtp.xlabel('Number of clusters(k)')\n",
        "mtp.ylabel('wcss_list')\n",
        "mtp.show()\n",
        "\n",
        "# Normalize features for better clustering\n",
        "scaler = StandardScaler()\n",
        "X_scaled = scaler.fit_transform(x)\n",
        "\n",
        "#training the K-means model on a dataset\n",
        "kmeans = KMeans(n_clusters=5, init='k-means++'&, random_state= 42)\n",
        "y_predict= kmeans.fit_predict(X_scaled)\n",
        "\n",
        "#visualizing the clusters\n",
        "mtp.scatter(x[y_predict == 0, 0], x[y_predict == 0, 1], s = 100, c = 'blue', label = 'Cluster 1') #for first cluster\n",
        "mtp.scatter(x[y_predict == 1, 0], x[y_predict == 1, 1], s = 100, c = 'green', label = 'Cluster 2') #for second cluster\n",
        "mtp.scatter(x[y_predict == 2, 0], x[y_predict == 2, 1], s = 100, c = 'red', label = 'Cluster 3') #for third cluster\n",
        "mtp.scatter(x[y_predict == 3, 0], x[y_predict == 3, 1], s = 100, c = 'black', label = 'Cluster 4') #for fourth cluster\n",
        "mtp.scatter(x[y_predict == 4, 0], x[y_predict == 4, 1], s = 100, c = 'purple', label = 'Cluster 5') #for fifth cluster\n",
        "mtp.scatter(kmeans.cluster_centers_[:, 0], kmeans.cluster_centers_[:, 1], s = 300, c = 'yellow', label = 'Centroid')\n",
        "mtp.title('Clusters of customers')\n",
        "mtp.xlabel('Annual Income (k$)')\n",
        "mtp.ylabel('Spending Score (1-100)')\n",
        "mtp.legend()\n",
        "mtp.show()"
      ]
    }
  ]
}