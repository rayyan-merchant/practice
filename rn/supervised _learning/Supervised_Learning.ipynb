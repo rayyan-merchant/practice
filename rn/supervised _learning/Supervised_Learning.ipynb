{
  "nbformat": 4,
  "nbformat_minor": 0,
  "metadata": {
    "colab": {
      "provenance": []
    },
    "kernelspec": {
      "name": "python3",
      "display_name": "Python 3"
    },
    "language_info": {
      "name": "python"
    }
  },
  "cells": [
    {
      "cell_type": "markdown",
      "source": [
        "### Overview"
      ],
      "metadata": {
        "id": "l_oKq2LcmmTf"
      }
    },
    {
      "cell_type": "code",
      "execution_count": 2,
      "metadata": {
        "colab": {
          "base_uri": "https://localhost:8080/",
          "height": 472
        },
        "id": "SCAcuIaNCymh",
        "outputId": "d8599f2b-ed15-4ded-a6fd-df6a424a8d47"
      },
      "outputs": [
        {
          "output_type": "display_data",
          "data": {
            "text/plain": [
              "<Figure size 640x480 with 1 Axes>"
            ],
            "image/png": "[encoded data removed]"
          },
          "metadata": {}
        }
      ],
      "source": [
        "import seaborn as sns\n",
        "import matplotlib.pyplot as plt\n",
        "import pandas as pd\n",
        "# Sample dataset\n",
        "data = pd.DataFrame({'x': [1,2,3,4,5], 'y': [2,4,6,8,10]})\n",
        "# Create scatter plot\n",
        "sns.scatterplot(x='x', y='y', data=data)\n",
        "plt.title(\"Scatter Plot\")\n",
        "plt.show()\n"
      ]
    },
    {
      "cell_type": "code",
      "source": [
        "import numpy as np\n",
        "# Example: Create a NumPy array and perform basic operations\n",
        "arr = np.array([1, 2, 3, 4, 5])\n",
        "print(np.mean(arr)) # Mean of the array"
      ],
      "metadata": {
        "colab": {
          "base_uri": "https://localhost:8080/"
        },
        "id": "nQrvMEKSJjSZ",
        "outputId": "ff4def00-fe3d-4a78-c77f-183d71c07972"
      },
      "execution_count": 3,
      "outputs": [
        {
          "output_type": "stream",
          "name": "stdout",
          "text": [
            "3.0\n"
          ]
        }
      ]
    },
    {
      "cell_type": "code",
      "source": [
        "import pandas as pd\n",
        "# sLoading a CSV file into a DataFrame\n",
        "df = pd.read_csv('data.csv')\n",
        "# Display first 5 rows\n",
        "print(df.head())"
      ],
      "metadata": {
        "id": "51-2HmLdKkg0"
      },
      "execution_count": null,
      "outputs": []
    },
    {
      "cell_type": "code",
      "source": [
        "import matplotlib.pyplot as plt\n",
        "categories = [\"A\", \"B\", \"C\", \"D\"]\n",
        "values = [10, 20, 15, 30]\n",
        "plt.bar(categories, values, color='green')\n",
        "plt.xlabel(\"Categories\")\n",
        "plt.ylabel(\"Values\")\n",
        "plt.title(\"Bar Chart Example\")\n",
        "plt.show()"
      ],
      "metadata": {
        "colab": {
          "base_uri": "https://localhost:8080/",
          "height": 472
        },
        "id": "NLg6V1haK__1",
        "outputId": "911a57d5-e8c5-4589-90fa-2628ff2f3be5"
      },
      "execution_count": 4,
      "outputs": [
        {
          "output_type": "display_data",
          "data": {
            "text/plain": [
              "<Figure size 640x480 with 1 Axes>"
            ],
            "image/png": "[encoded data removed]"
          },
          "metadata": {}
        }
      ]
    },
    {
      "cell_type": "code",
      "source": [
        "import pandas as pd\n",
        "df = pd.read_csv(\"data.csv\") # Reading a CSV file\n",
        "df.to_csv(\"output.csv\", index=False) # Writing to a CSV file\n",
        "print(df.head()) # Display first few rows"
      ],
      "metadata": {
        "id": "TjsLVRNNLYrn"
      },
      "execution_count": null,
      "outputs": []
    },
    {
      "cell_type": "markdown",
      "source": [
        "### Handling Missing Values"
      ],
      "metadata": {
        "id": "UHx-GsgGPB3i"
      }
    },
    {
      "cell_type": "code",
      "source": [
        "# Check for missing values\n",
        "print(df.isnull().sum())\n",
        "# Drop missing values\n",
        "df_cleaned = df.dropna()\n",
        "print(\"Dataset after dropping missing values:\", df_cleaned.shape)\n",
        "# Handle missing values\n",
        "df['age'] = df['age'].fillna(df['age'].mean()) # Fill age with mean\n",
        "df['embarked'] = df['embarked'].fillna(df['embarked'].mode()[0]) # Fill\n",
        "embarked with mode\n",
        "# Convert deck to string and replace NaN\n",
        "df['deck'] = df['deck'].astype(str).fillna('Unknown')\n",
        "# Drop remaining NaN values if needed\n",
        "df = df.dropna()\n",
        "print(df.isnull().sum()) # Confirm no missing values"
      ],
      "metadata": {
        "id": "IBu5fcdhN9vX"
      },
      "execution_count": null,
      "outputs": []
    },
    {
      "cell_type": "markdown",
      "source": [
        "### Encoding Categorical Data"
      ],
      "metadata": {
        "id": "zipCelcAPK6l"
      }
    },
    {
      "cell_type": "markdown",
      "source": [
        "3.3.1 Label Encoding (For Binary Categories)"
      ],
      "metadata": {
        "id": "S7Q5QWf9PR0J"
      }
    },
    {
      "cell_type": "code",
      "source": [
        "#Converts categories into numbers (e.g., male → 0, female → 1).\n",
        "le = LabelEncoder()\n",
        "df['gender'] = le.fit_transform(df['gender']) # 0 for male, 1 for female\n",
        "print(df['gender'].head())"
      ],
      "metadata": {
        "id": "B4pS9OHLP65C"
      },
      "execution_count": null,
      "outputs": []
    },
    {
      "cell_type": "markdown",
      "source": [
        "3.3.2 One-Hot Encoding (For Multi-Class Categories)"
      ],
      "metadata": {
        "id": "HfaIzVC8PnU5"
      }
    },
    {
      "cell_type": "code",
      "source": [
        "#Creates separate binary columns for each category.\n",
        "encoded_df = pd.get_dummies(df, columns=['embarked'], drop_first=True)\n",
        "print(df.head())"
      ],
      "metadata": {
        "id": "VUgTr3TKPpn-"
      },
      "execution_count": null,
      "outputs": []
    },
    {
      "cell_type": "code",
      "source": [
        "from sklearn.preprocessing import OneHotEncoder\n",
        "import numpy as np\n",
        "data = np.array([['Red'], ['Blue'], ['Green'], ['Red']])\n",
        "encoder = OneHotEncoder(sparse_output=False)  # sparse=True gives sparse matrix\n",
        "encoded = encoder.fit_transform(data)\n",
        "print(encoded)"
      ],
      "metadata": {
        "id": "QfuG8QANQzHR"
      },
      "execution_count": null,
      "outputs": []
    },
    {
      "cell_type": "markdown",
      "source": [
        "### Train-Test Split"
      ],
      "metadata": {
        "id": "_FrWKEnRSUh0"
      }
    },
    {
      "cell_type": "markdown",
      "source": [
        "● Underfitting: Model is too simple, performs poorly on training and test data.\n",
        "\n",
        "● Overfitting: Model memorizes training data but performs poorly on unseen data.\n",
        "\n",
        "● Solution: Use train-test split and cross-validation to check generalization."
      ],
      "metadata": {
        "id": "uzuQMQKXSmOu"
      }
    },
    {
      "cell_type": "markdown",
      "source": [
        "1. 80-20 Split (Common Practice)\n",
        "\n",
        "○ 80% Training, 20% Testing\n",
        "\n",
        "○ Used for general ML problems.\n",
        "2. 70-30 Split\n",
        "\n",
        "○ More test data, useful when we need better validation.\n",
        "3. 60-20-20 Split (Train, Validation, Test)\n",
        "\n",
        "○ 60% Training, 20% Validation, 20% Testing\n",
        "\n",
        "○ Used for hyperparameter tuning to avoid overfitting."
      ],
      "metadata": {
        "id": "nl7HWw8oS2WX"
      }
    },
    {
      "cell_type": "code",
      "source": [
        "from sklearn.model_selection import train_test_split\n",
        "from sklearn.naive_bayes import GaussianNB\n",
        "from sklearn.metrics import accuracy_score\n",
        "import numpy as np\n",
        "\n",
        "# Generate dummy dataset\n",
        "X = np.random.rand(100, 5) # 100 samples, 5 features\n",
        "y = np.random.randint(0, 2, 100) # Binary target variable (0 or 1)\n",
        "\n",
        "# Splitting the data into 80% training and 20% testing\n",
        "X_train, X_test, y_train, y_test = train_test_split(X, y, test_size=0.2, random_state=42)\n",
        "\n",
        "# Create a Naïve Bayes model\n",
        "model = GaussianNB()\n",
        "\n",
        "# Train the model on training data\n",
        "model.fit(X_train, y_train)\n",
        "\n",
        "# Predict on test data\n",
        "y_pred = model.predict(X_test)\n",
        "\n",
        "# Evaluate the model\n",
        "accuracy = accuracy_score(y_test, y_pred)\n",
        "print(f\"Model Accuracy: {accuracy:.2f}\")"
      ],
      "metadata": {
        "id": "79OfU7qASYSO"
      },
      "execution_count": null,
      "outputs": []
    },
    {
      "cell_type": "markdown",
      "source": [
        "### Cross Validation"
      ],
      "metadata": {
        "id": "QaPot4rVUUgY"
      }
    },
    {
      "cell_type": "markdown",
      "source": [
        "4.1 K-Fold Cross Validation"
      ],
      "metadata": {
        "id": "F3SU-_N3UY5j"
      }
    },
    {
      "cell_type": "code",
      "source": [
        "from sklearn.model_selection import KFold\n",
        "from sklearn.linear_model import LogisticRegression\n",
        "from sklearn.metrics import accuracy_score\n",
        "import numpy as np\n",
        "import pandas as pd\n",
        "import seaborn as sns\n",
        "\n",
        "# Load dataset\n",
        "df = sns.load_dataset(\"titanic\")\n",
        "\n",
        "# Select features and target, handling missing values\n",
        "X = df[['age', 'fare']].fillna(df[['age', 'fare']].mean())\n",
        "y = df['survived']\n",
        "\n",
        "# Convert to DataFrame to use .iloc[]\n",
        "X = pd.DataFrame(X)\n",
        "y = pd.Series(y)\n",
        "\n",
        "# Define K-Fold (5 splits)\n",
        "kf = KFold(n_splits=5, shuffle=True, random_state=42)\n",
        "\n",
        "# Initialize model\n",
        "model = LogisticRegression()\n",
        "\n",
        "# Store accuracy scores\n",
        "accuracy_scores = []\n",
        "\n",
        "# Perform K-Fold CV\n",
        "for train_index, test_index in kf.split(X):\n",
        "  X_train, X_test = X.iloc[train_index], X.iloc[test_index] # Now X is a DataFrame\n",
        "  y_train, y_test = y.iloc[train_index], y.iloc[test_index] # Now y is a Series\n",
        "\n",
        "  # Train model\n",
        "  model.fit(X_train, y_train)\n",
        "\n",
        "  # Predict and evaluate\n",
        "  y_pred = model.predict(X_test)\n",
        "  acc = accuracy_score(y_test, y_pred)\n",
        "  accuracy_scores.append(acc)\n",
        "\n",
        "# Print average accuracy\n",
        "print(\"K-Fold CV Average Accuracy:\", np.mean(accuracy_scores))"
      ],
      "metadata": {
        "id": "YO3Esy89UagU"
      },
      "execution_count": null,
      "outputs": []
    },
    {
      "cell_type": "markdown",
      "source": [
        "4.2 Leave-One-Out Cross Validation (LOOCV)"
      ],
      "metadata": {
        "id": "GJ_w5lKgcJ-x"
      }
    },
    {
      "cell_type": "code",
      "source": [
        "from sklearn.model_selection import LeaveOneOut\n",
        "\n",
        "# Initialize LOOCV\n",
        "loo = LeaveOneOut()\n",
        "\n",
        "# Store accuracy scores\n",
        "loo_scores = []\n",
        "\n",
        "# Perform LOOCV\n",
        "for train_index, test_index in loo.split(X):\n",
        "  X_train, X_test = X.iloc[train_index], X.iloc[test_index]\n",
        "  y_train, y_test = y.iloc[train_index], y.iloc[test_index]\n",
        "\n",
        "  # Train model\n",
        "  model.fit(X_train, y_train)\n",
        "\n",
        "  # Predict and evaluate\n",
        "  y_pred = model.predict(X_test)\n",
        "  loo_scores.append(accuracy_score(y_test, y_pred))\n",
        "\n",
        "# Print average accuracy\n",
        "print(\"LOOCV Average Accuracy:\", np.mean(loo_scores))"
      ],
      "metadata": {
        "id": "PotUiCjLcOCB"
      },
      "execution_count": null,
      "outputs": []
    },
    {
      "cell_type": "markdown",
      "source": [
        "### 5. Performance Evaluation Metrics"
      ],
      "metadata": {
        "id": "_2Rdx6J7i22l"
      }
    },
    {
      "cell_type": "markdown",
      "source": [
        "![image.png](data:image/png;base64,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)"
      ],
      "metadata": {
        "id": "adBIAmRlmRlM"
      }
    },
    {
      "cell_type": "markdown",
      "source": [
        "\n",
        "\n",
        "\n",
        " 📊 What is the ROC Curve?\n",
        "\n",
        "**ROC** stands for **Receiver Operating Characteristic**. It is a **graphical representation** used to evaluate the performance of **binary classification models**.\n",
        "\n",
        " 📈 What does it plot?\n",
        "\n",
        "* **Y-axis (TPR)**: **True Positive Rate**, also called **Recall**\n",
        "\n",
        "  $$\n",
        "  \\text{TPR} = \\frac{\\text{True Positives}}{\\text{True Positives + False Negatives}}\n",
        "  $$\n",
        "\n",
        "  It shows how many actual positives your model correctly predicted.\n",
        "\n",
        "* **X-axis (FPR)**: **False Positive Rate**\n",
        "\n",
        "  $$\n",
        "  \\text{FPR} = \\frac{\\text{False Positives}}{\\text{False Positives + True Negatives}}\n",
        "  $$\n",
        "\n",
        "  It shows how many actual negatives your model wrongly predicted as positives.\n",
        "\n",
        "---\n",
        "\n",
        " 🎯 Goal of ROC:\n",
        "\n",
        "* A **perfect classifier** has:\n",
        "\n",
        "  * **TPR = 1** (all positives correctly predicted)\n",
        "  * **FPR = 0** (no negatives wrongly predicted)\n",
        "  * Appears at the **top-left corner** of the ROC plot.\n",
        "* A **random classifier** plots a **diagonal line** (TPR = FPR at all thresholds), with an **AUC = 0.5**.\n",
        "\n",
        "---\n",
        "\n",
        " ✅ What is AUC?\n",
        "\n",
        "**AUC** = **Area Under the Curve**\n",
        "It summarizes the entire ROC curve into a single value:\n",
        "\n",
        "* **AUC = 1** → Perfect model\n",
        "* **AUC = 0.5** → Random guessing\n",
        "* **AUC < 0.5** → Worse than random (model is likely inverted)\n",
        "\n",
        "---\n",
        "\n",
        " 📧 Example (Spam Classifier):\n",
        "\n",
        "Imagine a model that predicts whether an email is **spam (1)** or **not spam (0)**:\n",
        "\n",
        "* At low thresholds, the model labels most emails as spam → **high TPR**, but also **high FPR**\n",
        "* As the threshold increases, fewer emails are labeled spam → **TPR drops**, **FPR also drops**\n",
        "* Plotting TPR vs FPR across all thresholds gives the **ROC curve**\n",
        "\n",
        "---\n",
        "\n",
        " 🧠 Why is ROC useful?\n",
        "\n",
        "* Helps you **choose the best threshold** based on your needs (e.g., do you want more TPR even if FPR increases?)\n",
        "* Allows you to **compare different models**\n",
        "* Works well even if your dataset is **imbalanced**\n",
        "\n",
        "---\n",
        "\n",
        "Would you like a diagram or plot of a sample ROC curve to visualize this better?\n"
      ],
      "metadata": {
        "id": "qGPRs8jJtQBM"
      }
    },
    {
      "cell_type": "code",
      "source": [
        "from sklearn.metrics import roc_curve, roc_auc_score\n",
        "import matplotlib.pyplot as plt\n",
        "\n",
        "# Assuming the model has been trained and 'PredictionDT' holds class predictions\n",
        "# To compute ROC, we need the probability estimates, not just the predicted class.\n",
        "# For binary classification, use the probabilities of the positive class.\n",
        "\n",
        "# Get probabilities for the positive class\n",
        "probabilities = DT.predict_proba(x_test)[:, 1] # Get the probability for class '1'\n",
        "\n",
        "# Calculate ROC Curve\n",
        "fpr, tpr, thresholds = roc_curve(y_test, probabilities)\n",
        "\n",
        "# Calculate ROC_AUC Score\n",
        "roc_auc = roc_auc_score(y_test, probabilities)\n",
        "\n",
        "# Plot ROC curve with shaded area under the curve\n",
        "plt.figure(figsize=(8, 6))\n",
        "plt.plot(fpr, tpr, color='blue', lw=2, label=f'ROC Curve (AUC = {roc_auc:.2f})')\n",
        "plt.fill_between(fpr, tpr, color='skyblue', alpha=0.4)\n",
        "plt.plot([0, 1], [0, 1], color='gray', linestyle='--')\n",
        "plt.xlim([0.0, 1.0])\n",
        "plt.ylim([0.0, 1.05])\n",
        "plt.xlabel('False Positive Rate')\n",
        "plt.ylabel('True Positive Rate')\n",
        "plt.title('ROC Curve with AUC Area')\n",
        "plt.legend(loc='lower right')\n",
        "plt.show()"
      ],
      "metadata": {
        "id": "1kmbB_g1i6vc"
      },
      "execution_count": null,
      "outputs": []
    },
    {
      "cell_type": "markdown",
      "source": [
        "Evaluation metrics"
      ],
      "metadata": {
        "id": "GQD8C72mtTuz"
      }
    },
    {
      "cell_type": "code",
      "source": [
        "import pandas as pd\n",
        "import numpy as np\n",
        "from sklearn.model_selection import train_test_split\n",
        "from sklearn.linear_model import LogisticRegression\n",
        "from sklearn.metrics import (\n",
        "    confusion_matrix, ConfusionMatrixDisplay,\n",
        "    accuracy_score, precision_score, recall_score, r2_score\n",
        ")\n",
        "import seaborn as sns\n",
        "import matplotlib.pyplot as plt\n",
        "\n",
        "# Load Titanic dataset\n",
        "df = sns.load_dataset(\"titanic\")\n",
        "\n",
        "# Prepare data\n",
        "df = df[['age', 'fare', 'survived']].dropna()  # Drop rows with missing values\n",
        "X = df[['age', 'fare']]\n",
        "y = df['survived']\n",
        "\n",
        "# Train-test split\n",
        "x_train, x_test, y_train, y_test = train_test_split(X, y, test_size=0.2, random_state=42)\n",
        "\n",
        "# Model\n",
        "model = LogisticRegression()\n",
        "model.fit(x_train, y_train)\n",
        "\n",
        "# Predictions\n",
        "y_pred = model.predict(x_test)\n",
        "\n",
        "# Evaluation Metrics\n",
        "acc = accuracy_score(y_test, y_pred)\n",
        "prec = precision_score(y_test, y_pred)\n",
        "rec = recall_score(y_test, y_pred)\n",
        "r2 = r2_score(y_test, y_pred)  # Note: not ideal for classification, shown just for contrast\n",
        "\n",
        "print(\"Accuracy     :\", acc)\n",
        "print(\"Precision    :\", prec)\n",
        "print(\"Recall       :\", rec)\n",
        "print(\"R2 Score     :\", r2)  # Mainly used in regression\n",
        "\n",
        "# Confusion Matrix\n",
        "cm = confusion_matrix(y_test, y_pred)\n",
        "disp = ConfusionMatrixDisplay(confusion_matrix=cm, display_labels=model.classes_)\n",
        "\n",
        "# Plot\n",
        "plt.figure(figsize=(6, 4))\n",
        "disp.plot(cmap='Blues', values_format='d')\n",
        "plt.title(\"Confusion Matrix\")\n",
        "plt.show()\n",
        "\n"
      ],
      "metadata": {
        "id": "PTJoxwOmtXZn"
      },
      "execution_count": null,
      "outputs": []
    },
    {
      "cell_type": "markdown",
      "source": [
        "### SVM"
      ],
      "metadata": {
        "id": "u9hHnAci9AUZ"
      }
    },
    {
      "cell_type": "code",
      "source": [
        "from sklearn import datasets\n",
        "from sklearn.svm import SVC\n",
        "from sklearn.model_selection import train_test_split\n",
        "from sklearn.metrics import accuracy_score\n",
        "\n",
        "# Load dataset\n",
        "iris = datasets.load_iris()\n",
        "X = iris.data\n",
        "y = iris.target\n",
        "\n",
        "y = (y == 0).astype(int) # Convert to binary classification problem\n",
        "\n",
        "# Split data\n",
        "X_train, X_test, y_train, y_test = train_test_split(X, y, test_size=0.3, random_state=42)\n",
        "\n",
        "# Train SVM model with RBF kernel\n",
        "svm = SVC(kernel='rbf', C=1, gamma='scale')\n",
        "svm.fit(X_train, y_train)\n",
        "\n",
        "# Make predictions\n",
        "y_pred = svm.predict(X_test)\n",
        "\n",
        "# Evaluate the model\n",
        "print(\"SVM Accuracy:\", accuracy_score(y_test, y_pred))"
      ],
      "metadata": {
        "id": "rI2Q0Fk19Gc3"
      },
      "execution_count": null,
      "outputs": []
    },
    {
      "cell_type": "markdown",
      "source": [
        "### Linear Regression"
      ],
      "metadata": {
        "id": "WSdv2uPr-eoL"
      }
    },
    {
      "cell_type": "code",
      "source": [
        "import numpy as np\n",
        "import pandas as pd\n",
        "from sklearn.linear_model import LinearRegression\n",
        "from sklearn.model_selection import train_test_split\n",
        "from sklearn.metrics import mean_squared_error\n",
        "\n",
        "# Split the data into training and testing sets\n",
        "x_train, x_test, y_train, y_test = train_test_split(x, y, test_size=0.2, random_state=42)\n",
        "\n",
        "# Create and train the Linear Regression model\n",
        "LR = LinearRegression()\n",
        "ModelLR = LR.fit(x_train, y_train)\n",
        "\n",
        "# Predict on the test data\n",
        "PredictionLR = ModelLR.predict(x_test)\n",
        "# Print the predictions\n",
        "print(\"Predictions:\", PredictionLR)"
      ],
      "metadata": {
        "id": "JhLfHySj-2b7"
      },
      "execution_count": null,
      "outputs": []
    },
    {
      "cell_type": "markdown",
      "source": [
        "1. Coefficient of Determination or R-Squared (R2)\n",
        "2. Root Mean Squared Error (RSME)"
      ],
      "metadata": {
        "id": "11crfu48CoWM"
      }
    },
    {
      "cell_type": "code",
      "source": [
        "from sklearn.metrics import r2_score\n",
        "print('===================LR Testing Accuracy================')\n",
        "teachLR = r2_score(y_test, PredictionLR)\n",
        "testingAccLR = teachLR * 100\n",
        "print(testingAccLR)"
      ],
      "metadata": {
        "id": "_6QQm-QECpXy"
      },
      "execution_count": null,
      "outputs": []
    },
    {
      "cell_type": "markdown",
      "source": [
        "### Decision Tree Classifier"
      ],
      "metadata": {
        "id": "V_zR1ejdAXvv"
      }
    },
    {
      "cell_type": "code",
      "source": [
        "from sklearn.tree import DecisionTreeClassifier\n",
        "\n",
        "# Initialize the DecisionTreeClassifier\n",
        "DT = DecisionTreeClassifier()\n",
        "\n",
        "# Train the model\n",
        "ModelDT = DT.fit(x_train, y_train)\n",
        "\n",
        "# Model Testing (Prediction)\n",
        "PredictionDT = DT.predict(x_test)\n",
        "print(\"Predictions:\", PredictionDT)\n",
        "\n",
        "# Model Training Accuracy\n",
        "print('====================DT Training Accuracy===============')\n",
        "tracDT = DT.score(x_train, y_train) # The score method gives accuracy directly\n",
        "TrainingAccDT = tracDT * 100\n",
        "print(f\"Training Accuracy: {TrainingAccDT:.2f}%\")\n",
        "\n",
        "# Model Testing Accuracy\n",
        "print('=====================DT Testing Accuracy=================')\n",
        "teacDT = accuracy_score(y_test, PredictionDT)\n",
        "testingAccDT = teacDT * 100\n",
        "print(f\"Testing Accuracy: {testingAccDT:.2f}%\")"
      ],
      "metadata": {
        "id": "6y99mGZxAdX6"
      },
      "execution_count": null,
      "outputs": []
    }
  ]
}