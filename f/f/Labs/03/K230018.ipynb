{
 "cells": [
  {
   "cell_type": "code",
   "execution_count": 2,
   "metadata": {},
   "outputs": [],
   "source": [
    "from typing import Dict, List, Tuple"
   ]
  },
  {
   "cell_type": "markdown",
   "metadata": {
    "vscode": {
     "languageId": "plaintext"
    }
   },
   "source": [
    "### Task 1"
   ]
  },
  {
   "cell_type": "code",
   "execution_count": 3,
   "metadata": {},
   "outputs": [
    {
     "name": "stdout",
     "output_type": "stream",
     "text": [
      "Goal reached\n"
     ]
    }
   ],
   "source": [
    "# DFS\n",
    "\n",
    "class Environment:\n",
    "  def __init__(self, graph: Dict[str, List[str]], source: str):\n",
    "    self.__source = source\n",
    "    self.__graph = graph\n",
    "\n",
    "  def get_precept(self):\n",
    "    return self.__source\n",
    "\n",
    "  def search(self, goal: str):\n",
    "    s = [self.__source]\n",
    "    visited = set([self.__source])\n",
    "\n",
    "    while s:\n",
    "      u = s.pop()\n",
    "\n",
    "      if u == goal:\n",
    "        return True\n",
    "\n",
    "      for v in self.__graph[u][::-1]:\n",
    "        if v in visited:\n",
    "          continue\n",
    "        s.append(v)\n",
    "        visited.add(v)\n",
    "    return False\n",
    "\n",
    "class GoalBasedAgent:\n",
    "  def __init__(self, goal: str):\n",
    "    self.__goal = goal\n",
    "    self.__reached: bool = False\n",
    "  \n",
    "  def goal_status(self):\n",
    "    return self.__reached\n",
    "\n",
    "  def act(self, env: Environment):\n",
    "    self.__reached = env.search(self.__goal)\n",
    "\n",
    "graph = {\n",
    "  'A': ['B'],\n",
    "  'B': ['C'],\n",
    "  'C': ['D'],\n",
    "  'D': []\n",
    "}\n",
    "\n",
    "agent = GoalBasedAgent('D')\n",
    "env = Environment(graph, 'A')\n",
    "\n",
    "def run_agent(agent: GoalBasedAgent, env: Environment):\n",
    "  agent.act(env)\n",
    "  if agent.goal_status():\n",
    "    print('Goal reached')\n",
    "  else:\n",
    "    print('Goal could not be reached')\n",
    "\n",
    "run_agent(agent, env)"
   ]
  },
  {
   "cell_type": "code",
   "execution_count": 4,
   "metadata": {},
   "outputs": [
    {
     "name": "stdout",
     "output_type": "stream",
     "text": [
      "Goal reached\n"
     ]
    }
   ],
   "source": [
    "# DLS\n",
    "\n",
    "class Environment:\n",
    "  def __init__(self, graph: Dict[str, List[str]], source: str):\n",
    "    self.__source = source\n",
    "    self.__graph = graph\n",
    "\n",
    "  def get_precept(self):\n",
    "    return self.__source\n",
    "\n",
    "  def search(self, goal: str, depth_limit: int):\n",
    "    s = [(self.__source, 0)]\n",
    "    visited = set([self.__source])\n",
    "\n",
    "    while s:\n",
    "      u, d = s.pop()\n",
    "\n",
    "      if d > depth_limit:\n",
    "        continue\n",
    "\n",
    "      if u == goal:\n",
    "        return True\n",
    "\n",
    "      for v in self.__graph[u][::-1]:\n",
    "        if v in visited:\n",
    "          continue\n",
    "        s.append((v, d+1))\n",
    "        visited.add(v)\n",
    "    return False\n",
    "\n",
    "class GoalBasedAgent:\n",
    "  def __init__(self, goal: str):\n",
    "    self.__goal = goal\n",
    "    self.__reached: bool = False\n",
    "  \n",
    "  def goal_status(self):\n",
    "    return self.__reached\n",
    "\n",
    "  def act(self, env: Environment):\n",
    "    self.__reached = env.search(self.__goal, 3)\n",
    "\n",
    "graph = {\n",
    "  'A': ['B'],\n",
    "  'B': ['C'],\n",
    "  'C': ['D'],\n",
    "  'D': []\n",
    "}\n",
    "\n",
    "agent = GoalBasedAgent('D')\n",
    "env = Environment(graph, 'A')\n",
    "\n",
    "def run_agent(agent: GoalBasedAgent, env: Environment):\n",
    "  agent.act(env)\n",
    "  if agent.goal_status():\n",
    "    print('Goal reached')\n",
    "  else:\n",
    "    print('Goal could not be reached')\n",
    "\n",
    "run_agent(agent, env)"
   ]
  },
  {
   "cell_type": "code",
   "execution_count": 5,
   "metadata": {},
   "outputs": [
    {
     "name": "stdout",
     "output_type": "stream",
     "text": [
      "Goal reached\n"
     ]
    }
   ],
   "source": [
    "import heapq\n",
    "\n",
    "# UCS\n",
    "\n",
    "class Environment:\n",
    "  def __init__(self, graph: Dict[str, List[Tuple[str, int]]], source: str):\n",
    "    self.__source = source\n",
    "    self.__graph = graph\n",
    "\n",
    "  def get_precept(self):\n",
    "    return self.__source\n",
    "\n",
    "  def search(self, goal: str):\n",
    "    q = [(0, self.__source)]\n",
    "    visited = set()\n",
    "    dist = {self.__source: 0}\n",
    "\n",
    "    while q:\n",
    "      d, u = heapq.heappop(q)\n",
    "\n",
    "      if u == goal:\n",
    "        return True\n",
    "      \n",
    "      if u in visited:\n",
    "        continue\n",
    "      visited.add(u)\n",
    "\n",
    "      for v, w in self.__graph[u]:\n",
    "        nw = d + w\n",
    "        if nw < dist.get(v, float('inf')):\n",
    "          dist[v] = nw\n",
    "          heapq.heappush(q, (nw, v))\n",
    "      \n",
    "    return False\n",
    "\n",
    "class UtilityBasedAgent:\n",
    "  def __init__(self, goal: str):\n",
    "    self.__goal = goal\n",
    "    self.__reached: bool = False\n",
    "  \n",
    "  def goal_status(self):\n",
    "    return self.__reached\n",
    "\n",
    "  def act(self, env: Environment):\n",
    "    self.__reached = env.search(self.__goal)\n",
    "\n",
    "graph: Dict[str, Tuple[str, int]] = {\n",
    "  'A': [('B', 2), ('C', 1)],\n",
    "  'B': [('C', 1), ('D', 1)],\n",
    "  'C': [('D', 3)],\n",
    "  'D': []\n",
    "}\n",
    "\n",
    "agent = UtilityBasedAgent('D')\n",
    "env = Environment(graph, 'A')\n",
    "\n",
    "def run_agent(agent: UtilityBasedAgent, env: Environment):\n",
    "  agent.act(env)\n",
    "  if agent.goal_status():\n",
    "    print('Goal reached')\n",
    "  else:\n",
    "    print('Goal could not be reached')\n",
    "\n",
    "run_agent(agent, env)"
   ]
  },
  {
   "attachments": {
    "image.png": {
     "image/png": "[encoded data removed]"
    }
   },
   "cell_type": "markdown",
   "metadata": {},
   "source": [
    "### Task 2\n",
    "![image.png](attachment:image.png)"
   ]
  },
  {
   "cell_type": "code",
   "execution_count": 6,
   "metadata": {},
   "outputs": [
    {
     "data": {
      "text/plain": [
       "80"
      ]
     },
     "execution_count": 6,
     "metadata": {},
     "output_type": "execute_result"
    }
   ],
   "source": [
    "# TSP\n",
    "\n",
    "def minimum_cost_tsp(graph: Dict[int, List[Tuple[int, int]]]) -> int:\n",
    "  n = len(graph)\n",
    "\n",
    "  def dfs(source: int, u: int, p: int, d: int, visited: set[int]):\n",
    "    if p == n:\n",
    "      for v, w in graph[u]:\n",
    "        if v == source:\n",
    "          return w + d\n",
    "      return float('inf')\n",
    "    \n",
    "    dist = float('inf')\n",
    "    for v, w in graph[u]:\n",
    "      if v in visited:\n",
    "        continue\n",
    "      visited.add(v)\n",
    "      dist = min(dist, dfs(source, v, p+1, w + d, visited))\n",
    "      visited.remove(v)\n",
    "    return dist\n",
    "\n",
    "  res = float('inf')\n",
    "  for i in range(1, n+1):\n",
    "    res = min(res, dfs(i, i, 1, 0, set([i])))\n",
    "  return res\n",
    "\n",
    "minimum_cost_tsp({\n",
    "  1: [(2, 10), (4, 20), (3, 15)],\n",
    "  2: [(1, 10), (4, 25), (3, 35)],\n",
    "  3: [(2, 35), (4, 30), (1, 15)],\n",
    "  4: [(1, 20), (2, 25), (3, 30)]\n",
    "})"
   ]
  },
  {
   "cell_type": "markdown",
   "metadata": {},
   "source": [
    "### Task 3"
   ]
  },
  {
   "cell_type": "code",
   "execution_count": 7,
   "metadata": {},
   "outputs": [
    {
     "data": {
      "text/plain": [
       "3"
      ]
     },
     "execution_count": 7,
     "metadata": {},
     "output_type": "execute_result"
    }
   ],
   "source": [
    "from typing import Optional\n",
    "\n",
    "# Iterative Deepening Depth First Search (IDDFS)\n",
    "\n",
    "def idf(graph: Dict[str, List[str]], source: str, goal: str, maximum_depth: int) -> Optional[int]:\n",
    "  def dfs(u: str, limit: int, visited: set[str]):\n",
    "    visited.add(u)\n",
    "    if u == goal:\n",
    "      return True\n",
    "    \n",
    "    if limit == 0:\n",
    "      return False\n",
    "    \n",
    "    for v in graph[u]:\n",
    "      if v in visited:\n",
    "        continue\n",
    "      if dfs(v, limit - 1, visited):\n",
    "        return True\n",
    "    return False\n",
    "\n",
    "  for limit in range(maximum_depth):\n",
    "    if dfs(source, limit, set()):\n",
    "      return limit\n",
    "\n",
    "idf(\n",
    "  graph={\n",
    "    'A': ['B'],\n",
    "    'B': ['C'],\n",
    "    'C': ['D'],\n",
    "    'D': []\n",
    "  },\n",
    "  source='A',\n",
    "  goal='D',\n",
    "  maximum_depth=5\n",
    ")"
   ]
  },
  {
   "cell_type": "code",
   "execution_count": 9,
   "metadata": {},
   "outputs": [
    {
     "data": {
      "text/plain": [
       "True"
      ]
     },
     "execution_count": 9,
     "metadata": {},
     "output_type": "execute_result"
    }
   ],
   "source": [
    "from collections import deque\n",
    "from typing import Deque\n",
    "\n",
    "# Bidirectional Search\n",
    "\n",
    "def bidirectional(graph: Dict[str, List[str]], source: str, goal: str) -> bool:\n",
    "  def helper(q: Deque[str], visited: set[str]):\n",
    "    u = q.popleft()\n",
    "    visited.add(u)\n",
    "\n",
    "    for v in graph[u]:\n",
    "      if v in visited:\n",
    "        continue\n",
    "      q.append(v)\n",
    "  \n",
    "  source_q, goal_q = deque([source]), deque([goal])\n",
    "  source_visited, goal_visited = set(), set()\n",
    "  while source_q and goal_q:\n",
    "    helper(source_q, source_visited)\n",
    "    helper(goal_q, goal_visited)\n",
    "    if source_visited & goal_visited:\n",
    "      return True\n",
    "  return False\n",
    "\n",
    "bidirectional(\n",
    "  graph = {\n",
    "    \"A\": [\"B\", \"C\"],\n",
    "    \"B\": [\"A\", \"D\", \"E\"],\n",
    "    \"C\": [\"A\", \"F\"],\n",
    "    \"D\": [\"B\", \"E\"],\n",
    "    \"E\": [\"B\", \"D\", \"F\"],\n",
    "    \"F\": [\"C\", \"E\"]\n",
    "  },\n",
    "  source='A',\n",
    "  goal='F'\n",
    ")"
   ]
  }
 ],
 "metadata": {
  "kernelspec": {
   "display_name": "venv",
   "language": "python",
   "name": "python3"
  },
  "language_info": {
   "codemirror_mode": {
    "name": "ipython",
    "version": 3
   },
   "file_extension": ".py",
   "mimetype": "text/x-python",
   "name": "python",
   "nbconvert_exporter": "python",
   "pygments_lexer": "ipython3",
   "version": "3.12.3"
  }
 },
 "nbformat": 4,
 "nbformat_minor": 2
}
