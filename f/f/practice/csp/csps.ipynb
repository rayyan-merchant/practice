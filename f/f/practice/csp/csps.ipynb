{
 "cells": [
  {
   "cell_type": "code",
   "execution_count": 2,
   "id": "bc9e37d1",
   "metadata": {},
   "outputs": [],
   "source": [
    "from typing import *\n",
    "from ortools.sat.python.cp_model import CpModel, CpSolver, OPTIMAL, FEASIBLE"
   ]
  },
  {
   "cell_type": "markdown",
   "id": "1018238c",
   "metadata": {},
   "source": [
    "### N Queens"
   ]
  },
  {
   "cell_type": "code",
   "execution_count": 3,
   "id": "a78a2716",
   "metadata": {},
   "outputs": [
    {
     "data": {
      "text/plain": [
       "[2, 0, 3, 1]"
      ]
     },
     "execution_count": 3,
     "metadata": {},
     "output_type": "execute_result"
    }
   ],
   "source": [
    "def solver(N: int) -> Optional[List[int]]:\n",
    "  model = CpModel()\n",
    "\n",
    "  # i is row number and queens[i] is column number\n",
    "  queens = [model.NewIntVar(0, N-1, f'q-{i}') for i in range(N)]\n",
    "\n",
    "  model.AddAllDifferent(queens)\n",
    "  # Add constraint where all rows + cols are different\n",
    "  model.AddAllDifferent(queens[i] + i for i in range(N))\n",
    "  # Add all constraints where all rows - cols are different\n",
    "  model.AddAllDifferent(queens[i] - i for i in range(N))\n",
    "\n",
    "  solver = CpSolver()\n",
    "  status = solver.Solve(model)\n",
    "\n",
    "  if status == OPTIMAL or status == FEASIBLE:\n",
    "    return list(map(solver.Value, queens))\n",
    "\n",
    "solver(4)"
   ]
  },
  {
   "cell_type": "markdown",
   "id": "d158a1d3",
   "metadata": {},
   "source": [
    "### Sudoku Solver"
   ]
  },
  {
   "cell_type": "code",
   "execution_count": 4,
   "id": "8219d8c7",
   "metadata": {},
   "outputs": [
    {
     "name": "stdout",
     "output_type": "stream",
     "text": [
      "[5, 3, 4, 6, 7, 8, 9, 1, 2]\n",
      "[6, 7, 2, 1, 9, 5, 3, 4, 8]\n",
      "[1, 9, 8, 3, 4, 2, 5, 6, 7]\n",
      "[8, 5, 9, 7, 6, 1, 4, 2, 3]\n",
      "[4, 2, 6, 8, 5, 3, 7, 9, 1]\n",
      "[7, 1, 3, 9, 2, 4, 8, 5, 6]\n",
      "[9, 6, 1, 5, 3, 7, 2, 8, 4]\n",
      "[2, 8, 7, 4, 1, 9, 6, 3, 5]\n",
      "[3, 4, 5, 2, 8, 6, 1, 7, 9]\n"
     ]
    }
   ],
   "source": [
    "def solver(initial_state: List[List[int]]) -> Optional[List[List[int]]]:\n",
    "  model = CpModel()\n",
    "\n",
    "  sudoku = [[model.NewIntVar(1, 9, f's-{i}{j}') for i in range(9)] for j in range(9)]\n",
    "\n",
    "  for i in range(9):\n",
    "    for j in range(9):\n",
    "      if not initial_state[i][j]:\n",
    "        continue\n",
    "      model.Add(sudoku[i][j] == initial_state[i][j])\n",
    "\n",
    "  for i in range(9):\n",
    "    model.AddAllDifferent(sudoku[i][j] for j in range(9))\n",
    "    model.AddAllDifferent(sudoku[j][i] for j in range(9))\n",
    "\n",
    "  for r in range(3):\n",
    "    for c in range(3):\n",
    "      model.AddAllDifferent(sudoku[i][j] for i in range(r*3, r*3+3) for j in range(c*3, c*3+3))\n",
    "\n",
    "  solver = CpSolver()\n",
    "  status = solver.Solve(model)\n",
    "\n",
    "  if status == FEASIBLE or status == OPTIMAL:\n",
    "    return list(map(lambda row: list(map(solver.Value, row)), sudoku))\n",
    "\n",
    "def is_valid_sudoku(grid):\n",
    "  for i in range(9):\n",
    "    if len(set(grid[i])) != 9 or len(set(grid[j][i] for j in range(9))) != 9:\n",
    "      return False\n",
    "  for r in range(0, 9, 3):\n",
    "    for c in range(0, 9, 3):\n",
    "      block = [grid[r+i][c+j] for i in range(3) for j in range(3)]\n",
    "      if len(set(block)) != 9:\n",
    "        return False\n",
    "  return True\n",
    "\n",
    "solution = solver([\n",
    "  [5, 3, 0, 0, 7, 0, 0, 0, 0],\n",
    "  [6, 0, 0, 1, 9, 5, 0, 0, 0],\n",
    "  [0, 9, 8, 0, 0, 0, 0, 6, 0],\n",
    "  [8, 0, 0, 0, 6, 0, 0, 0, 3],\n",
    "  [4, 0, 0, 8, 0, 3, 0, 0, 1],\n",
    "  [7, 0, 0, 0, 2, 0, 0, 0, 6],\n",
    "  [0, 6, 0, 0, 0, 0, 2, 8, 0],\n",
    "  [0, 0, 0, 4, 1, 9, 0, 0, 5],\n",
    "  [0, 0, 0, 0, 8, 0, 0, 7, 9]\n",
    "])\n",
    "\n",
    "solution and is_valid_sudoku(solution) and print(*solution, sep=\"\\n\")"
   ]
  },
  {
   "cell_type": "markdown",
   "id": "77b1ad71",
   "metadata": {},
   "source": [
    "### Magic Square"
   ]
  },
  {
   "cell_type": "code",
   "execution_count": 5,
   "id": "d759b3fa",
   "metadata": {},
   "outputs": [
    {
     "name": "stdout",
     "output_type": "stream",
     "text": [
      "[8, 1, 6]\n",
      "[3, 5, 7]\n",
      "[4, 9, 2]\n"
     ]
    }
   ],
   "source": [
    "def solver(n: int, s: int) -> Optional[List[List[int]]]:\n",
    "  model = CpModel()\n",
    "\n",
    "  squares = [[model.NewIntVar(1, n*n, f'sq-{i}{j}') for i in range(n)] for j in range(n)]\n",
    "\n",
    "  model.AddAllDifferent(sq for row in squares for sq in row)\n",
    "  for i in range(n):\n",
    "    model.Add(sum(squares[i]) == s)\n",
    "    model.Add(sum(squares[j][i] for j in range(n)) == s)\n",
    "\n",
    "  model.Add(sum(squares[i][i] for i in range(n)) == s)\n",
    "  model.Add(sum(squares[i][n-1 - i] for i in range(n)) == s)\n",
    "\n",
    "  solver = CpSolver()\n",
    "  status = solver.Solve(model)\n",
    "\n",
    "  if status == FEASIBLE or status == OPTIMAL:\n",
    "    return list(map(lambda row: list(map(solver.Value, row)), squares))\n",
    "\n",
    "solution = solver(3, 15)\n",
    "solution and print(*solution, sep=\"\\n\")"
   ]
  },
  {
   "cell_type": "markdown",
   "id": "37816d86",
   "metadata": {},
   "source": [
    "### Graph Coloring"
   ]
  },
  {
   "cell_type": "code",
   "execution_count": 6,
   "id": "587a0e55",
   "metadata": {},
   "outputs": [
    {
     "name": "stdout",
     "output_type": "stream",
     "text": [
      "[2, 1, 3, 2]\n"
     ]
    }
   ],
   "source": [
    "def solver(graph: Dict[int, List[int]], k: int = 3):\n",
    "  if k <= 1:\n",
    "    return None\n",
    "\n",
    "  model = CpModel()\n",
    "\n",
    "  n = len(graph)\n",
    "  nodes = [model.NewIntVar(1, k, f'u-{i}') for i in range(n)]\n",
    "\n",
    "  visited = set()\n",
    "  for u in range(n):\n",
    "    for v in graph[u]:\n",
    "      if (u, v) in visited:\n",
    "        continue\n",
    "      visited.add((u, v))\n",
    "      model.Add(nodes[u] != nodes[v])\n",
    "\n",
    "  solver = CpSolver()\n",
    "  status = solver.Solve(model)\n",
    "\n",
    "  if status == OPTIMAL or status == FEASIBLE:\n",
    "    return list(map(solver.Value, nodes))\n",
    "\n",
    "solution = solver({\n",
    "  0: [1, 2],\n",
    "  1: [0, 2, 3],\n",
    "  2: [0, 1, 3],\n",
    "  3: [1, 2]\n",
    "})\n",
    "\n",
    "print(solution)"
   ]
  },
  {
   "cell_type": "markdown",
   "id": "63ce107a",
   "metadata": {},
   "source": [
    "### Knapsack"
   ]
  },
  {
   "cell_type": "code",
   "execution_count": 7,
   "id": "1bec44b4",
   "metadata": {},
   "outputs": [
    {
     "name": "stdout",
     "output_type": "stream",
     "text": [
      "[0, 1, 1, 0, 1]\n"
     ]
    }
   ],
   "source": [
    "def solver(capacity: int, weights: List[int], values: List[int]) -> List[int]:\n",
    "  if len(weights) != len(values) or capacity <= 0:\n",
    "    return None\n",
    "\n",
    "  model = CpModel()\n",
    "\n",
    "  n = len(weights)\n",
    "  items = [model.NewBoolVar(f'i-{i}') for i in range(n)]\n",
    "\n",
    "  model.Add(sum(weights[i] * items[i] for i in range(n)) <= capacity)\n",
    "  model.Maximize(sum(values[i] * items[i] for i in range(n)))\n",
    "\n",
    "  solver = CpSolver()\n",
    "  status = solver.Solve(model)\n",
    "\n",
    "  if status == FEASIBLE or status == OPTIMAL:\n",
    "    return list(map(solver.Value, items))\n",
    "\n",
    "solution = solver(\n",
    "  15,\n",
    "  [4, 5, 6, 2, 3],\n",
    "  [10, 20, 30, 5, 12]\n",
    ")\n",
    "\n",
    "print(solution)"
   ]
  },
  {
   "cell_type": "markdown",
   "id": "3755ddfa",
   "metadata": {},
   "source": [
    "### Job Scheduling"
   ]
  },
  {
   "cell_type": "code",
   "execution_count": 8,
   "id": "431415c6",
   "metadata": {},
   "outputs": [
    {
     "name": "stdout",
     "output_type": "stream",
     "text": [
      "span: 10.0\n",
      "job 0\n",
      "  machine 0: 0-3\n",
      "  machine 1: 4-6\n",
      "  machine 2: 6-8\n",
      "job 1\n",
      "  machine 0: 3-5\n",
      "  machine 2: 5-6\n",
      "  machine 1: 6-10\n",
      "job 2\n",
      "  machine 1: 0-4\n",
      "  machine 0: 5-8\n",
      "  machine 2: 8-9\n"
     ]
    }
   ],
   "source": [
    "Task = Tuple[int, int]\n",
    "\n",
    "def solver(jobs: List[List[Task]]) -> List[List[int]]:\n",
    "  model = CpModel()\n",
    "\n",
    "  n_jobs = len(jobs) # num jobs\n",
    "  n_machines = 0 # num machines\n",
    "  max_end = 0\n",
    "  \n",
    "  tasks = {}\n",
    "  # extract all tasks\n",
    "  for i, job in enumerate(jobs):\n",
    "    for j, (machine, unit) in enumerate(job):\n",
    "      tasks[(i, j)] = (machine, unit)\n",
    "      n_machines = max(n_machines, machine + 1) # finds total machines\n",
    "      max_end += unit\n",
    "  \n",
    "  starts = {}\n",
    "  ends = {}\n",
    "  intervals = {}\n",
    "  for i, j in tasks:\n",
    "    machine, unit = tasks[(i, j)]\n",
    "    name = f'i{i}j{j}'\n",
    "    starts[(i, j)] = model.NewIntVar(0, max_end, f's_{name}')\n",
    "    ends[(i, j)] = model.NewIntVar(0, max_end, f'e_{name}')\n",
    "    intervals[(i, j)] = model.NewIntervalVar(starts[(i, j)], unit, ends[(i, j)], f'i_{name}')\n",
    "\n",
    "  # this prevents task ordering from changing\n",
    "  for i in range(n_jobs):\n",
    "    for j in range(len(jobs[i]) - 1):\n",
    "      model.Add(ends[(i, j)] <= starts[(i, j+1)])\n",
    "\n",
    "  # keeping track of all intervals that occur for a machine\n",
    "  # i.e. the intervals of tasks on machines\n",
    "  machine_intervals = {machine: [] for machine in range(n_machines)}\n",
    "  for i, j in tasks:\n",
    "    machine, _ = tasks[(i, j)]\n",
    "    machine_intervals[machine].append(intervals[(i, j)])\n",
    "  \n",
    "  # ensuring non of the intervals for a single machine overlap\n",
    "  for machine in range(n_machines):\n",
    "    model.AddNoOverlap(machine_intervals[machine])\n",
    "\n",
    "  makespan = model.NewIntVar(0, max_end, 'makespan')\n",
    "  # force makespan to be the last of end times\n",
    "  # i.e. the value makespan will take will always be the end time for the last job\n",
    "  model.AddMaxEquality(makespan, (ends[(i, len(jobs[i])-1)] for i in range(n_jobs)))\n",
    "  # we want to minimize makespan to get the shortets scheduling\n",
    "  model.Minimize(makespan)\n",
    "\n",
    "  solver = CpSolver()\n",
    "  status = solver.Solve(model)\n",
    "\n",
    "  if status == OPTIMAL or status == FEASIBLE:\n",
    "    schedule = []\n",
    "    for i in range(n_jobs):\n",
    "      job_schedule = []\n",
    "      for j in range(len(jobs[i])):\n",
    "        start = solver.Value(starts[(i, j)])\n",
    "        end = solver.Value(ends[(i, j)])\n",
    "        machine, _ = tasks[(i, j)]\n",
    "        job_schedule.append((machine, start, end))\n",
    "      schedule.append(job_schedule)\n",
    "    return schedule, solver.ObjectiveValue() # same as solver.Value(makespan)\n",
    "\n",
    "  return None, None\n",
    "\n",
    "  \n",
    "schedule, makespan = solver([\n",
    "  [  # Job 0: (machine, duration) for each task\n",
    "    (0, 3),  # Task 0: Runs on M0 for 3 units\n",
    "    (1, 2),  # Task 1: Runs on M1 for 2 units\n",
    "    (2, 2),  # Task 2: Runs on M2 for 2 units\n",
    "  ],\n",
    "  [  # Job 1\n",
    "    (0, 2),\n",
    "    (2, 1),\n",
    "    (1, 4),\n",
    "  ],\n",
    "  [  # Job 2\n",
    "    (1, 4),\n",
    "    (0, 3),\n",
    "    (2, 1),\n",
    "  ],\n",
    "])\n",
    "\n",
    "print('span:', makespan)\n",
    "for i in range(3):\n",
    "  print(f'job {i}')\n",
    "  for j in range(3):\n",
    "    machine, start, end = schedule[i][j]\n",
    "    print(f'  machine {machine}:', f'{start}-{end}')"
   ]
  },
  {
   "cell_type": "markdown",
   "id": "582153e4",
   "metadata": {},
   "source": [
    "### TSP"
   ]
  },
  {
   "cell_type": "code",
   "execution_count": 14,
   "id": "41ad847d",
   "metadata": {},
   "outputs": [
    {
     "name": "stdout",
     "output_type": "stream",
     "text": [
      "125\n",
      "[0, 2, 3, 1, 4, 0]\n"
     ]
    }
   ],
   "source": [
    "from ortools.constraint_solver import pywrapcp, routing_enums_pb2\n",
    "\n",
    "def solver(distance_matrix):\n",
    "  manager = pywrapcp.RoutingIndexManager(len(distance_matrix), 1, 0)\n",
    "  \n",
    "  routing = pywrapcp.RoutingModel(manager)\n",
    "  \n",
    "  def distance_cb(from_i, to_i):\n",
    "    return distance_matrix[manager.IndexToNode(from_i)][manager.IndexToNode(to_i)]\n",
    "  \n",
    "  transit_callback_index = routing.RegisterTransitCallback(distance_cb)\n",
    "  routing.SetArcCostEvaluatorOfAllVehicles(transit_callback_index)\n",
    "  \n",
    "  search_params = pywrapcp.DefaultRoutingSearchParameters()\n",
    "  search_params.first_solution_strategy = routing_enums_pb2.FirstSolutionStrategy.PATH_CHEAPEST_ARC\n",
    "  \n",
    "  solution = routing.SolveWithParameters(search_params)\n",
    "  \n",
    "  if solution:\n",
    "    route = []\n",
    "    index = routing.Start(0)\n",
    "    while not routing.IsEnd(index):\n",
    "      route.append(manager.IndexToNode(index))\n",
    "      index = solution.Value(routing.NextVar(index))\n",
    "    route.append(manager.IndexToNode(index))\n",
    "    total_distance = solution.ObjectiveValue()\n",
    "    return route, total_distance\n",
    "  return None, None\n",
    "\n",
    "route, distance = solver([\n",
    "  [0, 10, 15, 20, 25],    # From City 0 to others\n",
    "  [10, 0, 35, 25, 30],    # From City 1 to others\n",
    "  [15, 35, 0, 30, 40],    # From City 2 to others\n",
    "  [20, 25, 30, 0, 50],    # From City 3 to others\n",
    "  [25, 30, 40, 50, 0],    # From City 4 to others\n",
    "])\n",
    "\n",
    "print(distance)\n",
    "print(route)"
   ]
  }
 ],
 "metadata": {
  "kernelspec": {
   "display_name": "venv",
   "language": "python",
   "name": "python3"
  },
  "language_info": {
   "codemirror_mode": {
    "name": "ipython",
    "version": 3
   },
   "file_extension": ".py",
   "mimetype": "text/x-python",
   "name": "python",
   "nbconvert_exporter": "python",
   "pygments_lexer": "ipython3",
   "version": "3.12.3"
  }
 },
 "nbformat": 4,
 "nbformat_minor": 5
}
