{
 "cells": [
  {
   "cell_type": "markdown",
   "metadata": {},
   "source": [
    "## Q2"
   ]
  },
  {
   "cell_type": "markdown",
   "metadata": {
    "vscode": {
     "languageId": "plaintext"
    }
   },
   "source": [
    "### 3.\n",
    "You start with the sequence ABABAECCEC, or in general any sequence made from A, B, C, and E. You can transform this sequence using the following equalities: AC = E, AB = BC, BB = E, and Ex = x for any x. For example, ABBC can be transformed into AEC, and then AC, and then E. Your goal is to produce the sequence E."
   ]
  },
  {
   "cell_type": "code",
   "execution_count": 78,
   "metadata": {},
   "outputs": [
    {
     "data": {
      "text/plain": [
       "['BBEEAC', 'BBEAC', 'BBAC', 'EAC', 'AC', 'E']"
      ]
     },
     "execution_count": 78,
     "metadata": {},
     "output_type": "execute_result"
    }
   ],
   "source": [
    "import heapq\n",
    "import re\n",
    "\n",
    "def power_set_bitmask(s):\n",
    "    n = len(s)\n",
    "    s = list(s)\n",
    "    return [[s[j] for j in range(n) if i & (1 << j)] for i in range(1, 1 << n)]\n",
    "\n",
    "def solve(initial_state: str):\n",
    "  pq = [(0, initial_state)]\n",
    "  dists = {initial_state: (0, None)}\n",
    "  repl = lambda r, s, i: s[:i] + r + s[i+2:] \n",
    "  operations = {\n",
    "  \"AC\": lambda s, i: repl(\"E\", s, i),\n",
    "  \"AB\": lambda s, i: repl(\"BC\", s, i),\n",
    "  \"BB\": lambda s, i: repl(\"E\", s, i),\n",
    "  \"E\":  lambda s, i: repl(s[i+1], s, i) if i + 1 < len(s) else s\n",
    "}\n",
    "\n",
    "  def N(u):\n",
    "    visited = set()\n",
    "    for key in operations:\n",
    "      for match in re.finditer(key, u):\n",
    "        n = operations[key](u, match.start())\n",
    "        if n in visited:\n",
    "          continue\n",
    "        visited.add(n)\n",
    "\n",
    "    return list(visited)\n",
    "\n",
    "  def get_path():\n",
    "    path = [\"E\"]\n",
    "    current = dists.get(\"E\", (float('inf'), None))[1]\n",
    "    while current:\n",
    "      path.append(current)\n",
    "      current = dists.get(current, (float('inf'), None))[1]\n",
    "    return path[::-1]\n",
    "\n",
    "  while pq:\n",
    "    d, u = heapq.heappop(pq)\n",
    "\n",
    "    if u == \"E\":\n",
    "      return get_path()\n",
    "\n",
    "    for v in N(u):\n",
    "      cost = d + 1\n",
    "      if cost >= dists.get(v, (float('inf'), None))[0]:\n",
    "        continue\n",
    "      heapq.heappush(pq, (cost, v))\n",
    "      dists[v] = (cost, u)\n",
    "\n",
    "  print(dists)\n",
    "\n",
    "initial_state = \"BBEEAC\"\n",
    "\n",
    "solve(initial_state)"
   ]
  }
 ],
 "metadata": {
  "kernelspec": {
   "display_name": "venv",
   "language": "python",
   "name": "python3"
  },
  "language_info": {
   "codemirror_mode": {
    "name": "ipython",
    "version": 3
   },
   "file_extension": ".py",
   "mimetype": "text/x-python",
   "name": "python",
   "nbconvert_exporter": "python",
   "pygments_lexer": "ipython3",
   "version": "3.12.3"
  }
 },
 "nbformat": 4,
 "nbformat_minor": 2
}
